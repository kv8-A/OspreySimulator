{
 "cells": [
  {
   "cell_type": "code",
   "execution_count": 1,
   "metadata": {},
   "outputs": [],
   "source": [
    "import numpy as np"
   ]
  },
  {
   "cell_type": "code",
   "execution_count": 5,
   "metadata": {},
   "outputs": [],
   "source": [
    "x = np.load('../inference_results/prediction_22.npy')"
   ]
  },
  {
   "cell_type": "code",
   "execution_count": 4,
   "metadata": {},
   "outputs": [
    {
     "data": {
      "text/plain": [
       "array([[-0.34537303, -0.436158  , -0.5628536 , ..., -0.81315887,\n",
       "        -0.90331537, -0.34564027],\n",
       "       [-0.5115047 , -0.49765205, -1.5691364 , ..., -1.8148022 ,\n",
       "        -1.2288241 , -0.36349192],\n",
       "       [-0.40300718, -0.34688765, -1.0710846 , ..., -2.1406305 ,\n",
       "        -0.43304354, -0.3687096 ],\n",
       "       ...,\n",
       "       [-0.25903794, -2.18919   , -0.7907105 , ..., -1.111719  ,\n",
       "        -2.3519995 , -0.77105826],\n",
       "       [-0.24643257, -2.737241  , -1.4917701 , ..., -1.8005316 ,\n",
       "        -2.7710278 , -0.80317354],\n",
       "       [-0.36132678, -0.78264785, -0.46254414, ..., -0.46670103,\n",
       "        -0.6774558 , -0.34769177]], dtype=float32)"
      ]
     },
     "execution_count": 4,
     "metadata": {},
     "output_type": "execute_result"
    }
   ],
   "source": [
    "x"
   ]
  },
  {
   "cell_type": "code",
   "execution_count": null,
   "metadata": {},
   "outputs": [],
   "source": []
  }
 ],
 "metadata": {
  "kernelspec": {
   "display_name": "soarnet",
   "language": "python",
   "name": "python3"
  },
  "language_info": {
   "codemirror_mode": {
    "name": "ipython",
    "version": 3
   },
   "file_extension": ".py",
   "mimetype": "text/x-python",
   "name": "python",
   "nbconvert_exporter": "python",
   "pygments_lexer": "ipython3",
   "version": "3.9.20"
  }
 },
 "nbformat": 4,
 "nbformat_minor": 2
}
